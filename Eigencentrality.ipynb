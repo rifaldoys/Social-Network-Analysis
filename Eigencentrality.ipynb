{
  "nbformat": 4,
  "nbformat_minor": 0,
  "metadata": {
    "colab": {
      "provenance": []
    },
    "kernelspec": {
      "name": "python3",
      "display_name": "Python 3"
    },
    "language_info": {
      "name": "python"
    }
  },
  "cells": [
    {
      "cell_type": "code",
      "execution_count": null,
      "metadata": {
        "id": "djFuOMaF7dw1"
      },
      "outputs": [],
      "source": [
        "import numpy as np\n",
        "import pandas as pd\n",
        "import networkx as nx\n",
        "import matplotlib.pyplot as plt"
      ]
    },
    {
      "cell_type": "code",
      "source": [
        "data ={\n",
        "    'type': ['pass','pass','pass','pass','pass', 'pass','pass','pass','pass'],\n",
        "    'from':['Sylvain', 'Henry', 'Mayer', 'Martin', 'Habib', 'Martin', 'Martin', 'Mayer', 'Martin'],\n",
        "    'to': ['Henry', 'Mayer', 'Martin', 'Habib', 'Mayer', 'Mayer', 'Silvain', 'Silvain', 'Henry'],\n",
        "    'outcome':['complete','complete','complete','complete','complete','complete','complete','complete','complete'],\n",
        "    'goal_possesion': ['TRUE', 'FALSE', 'TRUE', 'TRUE', 'TRUE', 'FALSE', 'TRUE', 'TRUE', 'FALSE']\n",
        "    }"
      ],
      "metadata": {
        "id": "K7w031Du7i6w"
      },
      "execution_count": null,
      "outputs": []
    },
    {
      "cell_type": "code",
      "source": [
        "df = pd.DataFrame(data)\n",
        "df"
      ],
      "metadata": {
        "colab": {
          "base_uri": "https://localhost:8080/",
          "height": 332
        },
        "id": "Vm5ejDywEDcX",
        "outputId": "4a227165-46df-43e6-8eaa-de9375cc08a3"
      },
      "execution_count": null,
      "outputs": [
        {
          "output_type": "execute_result",
          "data": {
            "text/plain": [
              "   type     from       to   outcome goal_possesion\n",
              "0  pass  Sylvain    Henry  complete           TRUE\n",
              "1  pass    Henry    Mayer  complete          FALSE\n",
              "2  pass    Mayer   Martin  complete           TRUE\n",
              "3  pass   Martin    Habib  complete           TRUE\n",
              "4  pass    Habib    Mayer  complete           TRUE\n",
              "5  pass   Martin    Mayer  complete          FALSE\n",
              "6  pass   Martin  Silvain  complete           TRUE\n",
              "7  pass    Mayer  Silvain  complete           TRUE\n",
              "8  pass   Martin    Henry  complete          FALSE"
            ],
            "text/html": [
              "\n",
              "  <div id=\"df-eff06ac8-da69-4380-8c40-714582419e5d\">\n",
              "    <div class=\"colab-df-container\">\n",
              "      <div>\n",
              "<style scoped>\n",
              "    .dataframe tbody tr th:only-of-type {\n",
              "        vertical-align: middle;\n",
              "    }\n",
              "\n",
              "    .dataframe tbody tr th {\n",
              "        vertical-align: top;\n",
              "    }\n",
              "\n",
              "    .dataframe thead th {\n",
              "        text-align: right;\n",
              "    }\n",
              "</style>\n",
              "<table border=\"1\" class=\"dataframe\">\n",
              "  <thead>\n",
              "    <tr style=\"text-align: right;\">\n",
              "      <th></th>\n",
              "      <th>type</th>\n",
              "      <th>from</th>\n",
              "      <th>to</th>\n",
              "      <th>outcome</th>\n",
              "      <th>goal_possesion</th>\n",
              "    </tr>\n",
              "  </thead>\n",
              "  <tbody>\n",
              "    <tr>\n",
              "      <th>0</th>\n",
              "      <td>pass</td>\n",
              "      <td>Sylvain</td>\n",
              "      <td>Henry</td>\n",
              "      <td>complete</td>\n",
              "      <td>TRUE</td>\n",
              "    </tr>\n",
              "    <tr>\n",
              "      <th>1</th>\n",
              "      <td>pass</td>\n",
              "      <td>Henry</td>\n",
              "      <td>Mayer</td>\n",
              "      <td>complete</td>\n",
              "      <td>FALSE</td>\n",
              "    </tr>\n",
              "    <tr>\n",
              "      <th>2</th>\n",
              "      <td>pass</td>\n",
              "      <td>Mayer</td>\n",
              "      <td>Martin</td>\n",
              "      <td>complete</td>\n",
              "      <td>TRUE</td>\n",
              "    </tr>\n",
              "    <tr>\n",
              "      <th>3</th>\n",
              "      <td>pass</td>\n",
              "      <td>Martin</td>\n",
              "      <td>Habib</td>\n",
              "      <td>complete</td>\n",
              "      <td>TRUE</td>\n",
              "    </tr>\n",
              "    <tr>\n",
              "      <th>4</th>\n",
              "      <td>pass</td>\n",
              "      <td>Habib</td>\n",
              "      <td>Mayer</td>\n",
              "      <td>complete</td>\n",
              "      <td>TRUE</td>\n",
              "    </tr>\n",
              "    <tr>\n",
              "      <th>5</th>\n",
              "      <td>pass</td>\n",
              "      <td>Martin</td>\n",
              "      <td>Mayer</td>\n",
              "      <td>complete</td>\n",
              "      <td>FALSE</td>\n",
              "    </tr>\n",
              "    <tr>\n",
              "      <th>6</th>\n",
              "      <td>pass</td>\n",
              "      <td>Martin</td>\n",
              "      <td>Silvain</td>\n",
              "      <td>complete</td>\n",
              "      <td>TRUE</td>\n",
              "    </tr>\n",
              "    <tr>\n",
              "      <th>7</th>\n",
              "      <td>pass</td>\n",
              "      <td>Mayer</td>\n",
              "      <td>Silvain</td>\n",
              "      <td>complete</td>\n",
              "      <td>TRUE</td>\n",
              "    </tr>\n",
              "    <tr>\n",
              "      <th>8</th>\n",
              "      <td>pass</td>\n",
              "      <td>Martin</td>\n",
              "      <td>Henry</td>\n",
              "      <td>complete</td>\n",
              "      <td>FALSE</td>\n",
              "    </tr>\n",
              "  </tbody>\n",
              "</table>\n",
              "</div>\n",
              "      <button class=\"colab-df-convert\" onclick=\"convertToInteractive('df-eff06ac8-da69-4380-8c40-714582419e5d')\"\n",
              "              title=\"Convert this dataframe to an interactive table.\"\n",
              "              style=\"display:none;\">\n",
              "        \n",
              "  <svg xmlns=\"http://www.w3.org/2000/svg\" height=\"24px\"viewBox=\"0 0 24 24\"\n",
              "       width=\"24px\">\n",
              "    <path d=\"M0 0h24v24H0V0z\" fill=\"none\"/>\n",
              "    <path d=\"M18.56 5.44l.94 2.06.94-2.06 2.06-.94-2.06-.94-.94-2.06-.94 2.06-2.06.94zm-11 1L8.5 8.5l.94-2.06 2.06-.94-2.06-.94L8.5 2.5l-.94 2.06-2.06.94zm10 10l.94 2.06.94-2.06 2.06-.94-2.06-.94-.94-2.06-.94 2.06-2.06.94z\"/><path d=\"M17.41 7.96l-1.37-1.37c-.4-.4-.92-.59-1.43-.59-.52 0-1.04.2-1.43.59L10.3 9.45l-7.72 7.72c-.78.78-.78 2.05 0 2.83L4 21.41c.39.39.9.59 1.41.59.51 0 1.02-.2 1.41-.59l7.78-7.78 2.81-2.81c.8-.78.8-2.07 0-2.86zM5.41 20L4 18.59l7.72-7.72 1.47 1.35L5.41 20z\"/>\n",
              "  </svg>\n",
              "      </button>\n",
              "      \n",
              "  <style>\n",
              "    .colab-df-container {\n",
              "      display:flex;\n",
              "      flex-wrap:wrap;\n",
              "      gap: 12px;\n",
              "    }\n",
              "\n",
              "    .colab-df-convert {\n",
              "      background-color: #E8F0FE;\n",
              "      border: none;\n",
              "      border-radius: 50%;\n",
              "      cursor: pointer;\n",
              "      display: none;\n",
              "      fill: #1967D2;\n",
              "      height: 32px;\n",
              "      padding: 0 0 0 0;\n",
              "      width: 32px;\n",
              "    }\n",
              "\n",
              "    .colab-df-convert:hover {\n",
              "      background-color: #E2EBFA;\n",
              "      box-shadow: 0px 1px 2px rgba(60, 64, 67, 0.3), 0px 1px 3px 1px rgba(60, 64, 67, 0.15);\n",
              "      fill: #174EA6;\n",
              "    }\n",
              "\n",
              "    [theme=dark] .colab-df-convert {\n",
              "      background-color: #3B4455;\n",
              "      fill: #D2E3FC;\n",
              "    }\n",
              "\n",
              "    [theme=dark] .colab-df-convert:hover {\n",
              "      background-color: #434B5C;\n",
              "      box-shadow: 0px 1px 3px 1px rgba(0, 0, 0, 0.15);\n",
              "      filter: drop-shadow(0px 1px 2px rgba(0, 0, 0, 0.3));\n",
              "      fill: #FFFFFF;\n",
              "    }\n",
              "  </style>\n",
              "\n",
              "      <script>\n",
              "        const buttonEl =\n",
              "          document.querySelector('#df-eff06ac8-da69-4380-8c40-714582419e5d button.colab-df-convert');\n",
              "        buttonEl.style.display =\n",
              "          google.colab.kernel.accessAllowed ? 'block' : 'none';\n",
              "\n",
              "        async function convertToInteractive(key) {\n",
              "          const element = document.querySelector('#df-eff06ac8-da69-4380-8c40-714582419e5d');\n",
              "          const dataTable =\n",
              "            await google.colab.kernel.invokeFunction('convertToInteractive',\n",
              "                                                     [key], {});\n",
              "          if (!dataTable) return;\n",
              "\n",
              "          const docLinkHtml = 'Like what you see? Visit the ' +\n",
              "            '<a target=\"_blank\" href=https://colab.research.google.com/notebooks/data_table.ipynb>data table notebook</a>'\n",
              "            + ' to learn more about interactive tables.';\n",
              "          element.innerHTML = '';\n",
              "          dataTable['output_type'] = 'display_data';\n",
              "          await google.colab.output.renderOutput(dataTable, element);\n",
              "          const docLink = document.createElement('div');\n",
              "          docLink.innerHTML = docLinkHtml;\n",
              "          element.appendChild(docLink);\n",
              "        }\n",
              "      </script>\n",
              "    </div>\n",
              "  </div>\n",
              "  "
            ]
          },
          "metadata": {},
          "execution_count": 3
        }
      ]
    },
    {
      "cell_type": "code",
      "source": [
        "def transform_data(x):\n",
        "  if x == 'complete':\n",
        "    return 1\n",
        "  elif x == 'TRUE':\n",
        "    return 1\n",
        "  elif x == 'FALSE':\n",
        "    return 0\n",
        "\n",
        "# Transformasi data kategorikal ke nilai numerik\n",
        "df['outcome'] = df['outcome'].apply(transform_data)\n",
        "df['goal_possesion'] = df['goal_possesion'].apply(transform_data)"
      ],
      "metadata": {
        "id": "c21sWpIUCqYj"
      },
      "execution_count": null,
      "outputs": []
    },
    {
      "cell_type": "code",
      "source": [
        "df"
      ],
      "metadata": {
        "colab": {
          "base_uri": "https://localhost:8080/",
          "height": 332
        },
        "id": "B_g-G_fZ_BhA",
        "outputId": "cf4c07f9-1c41-4a9e-df89-0596d94e7cf6"
      },
      "execution_count": null,
      "outputs": [
        {
          "output_type": "execute_result",
          "data": {
            "text/plain": [
              "   type     from       to  outcome  goal_possesion\n",
              "0  pass  Sylvain    Henry        1               1\n",
              "1  pass    Henry    Mayer        1               0\n",
              "2  pass    Mayer   Martin        1               1\n",
              "3  pass   Martin    Habib        1               1\n",
              "4  pass    Habib    Mayer        1               1\n",
              "5  pass   Martin    Mayer        1               0\n",
              "6  pass   Martin  Silvain        1               1\n",
              "7  pass    Mayer  Silvain        1               1\n",
              "8  pass   Martin    Henry        1               0"
            ],
            "text/html": [
              "\n",
              "  <div id=\"df-cb46e7cc-0a33-4584-82fe-de9cf37454fe\">\n",
              "    <div class=\"colab-df-container\">\n",
              "      <div>\n",
              "<style scoped>\n",
              "    .dataframe tbody tr th:only-of-type {\n",
              "        vertical-align: middle;\n",
              "    }\n",
              "\n",
              "    .dataframe tbody tr th {\n",
              "        vertical-align: top;\n",
              "    }\n",
              "\n",
              "    .dataframe thead th {\n",
              "        text-align: right;\n",
              "    }\n",
              "</style>\n",
              "<table border=\"1\" class=\"dataframe\">\n",
              "  <thead>\n",
              "    <tr style=\"text-align: right;\">\n",
              "      <th></th>\n",
              "      <th>type</th>\n",
              "      <th>from</th>\n",
              "      <th>to</th>\n",
              "      <th>outcome</th>\n",
              "      <th>goal_possesion</th>\n",
              "    </tr>\n",
              "  </thead>\n",
              "  <tbody>\n",
              "    <tr>\n",
              "      <th>0</th>\n",
              "      <td>pass</td>\n",
              "      <td>Sylvain</td>\n",
              "      <td>Henry</td>\n",
              "      <td>1</td>\n",
              "      <td>1</td>\n",
              "    </tr>\n",
              "    <tr>\n",
              "      <th>1</th>\n",
              "      <td>pass</td>\n",
              "      <td>Henry</td>\n",
              "      <td>Mayer</td>\n",
              "      <td>1</td>\n",
              "      <td>0</td>\n",
              "    </tr>\n",
              "    <tr>\n",
              "      <th>2</th>\n",
              "      <td>pass</td>\n",
              "      <td>Mayer</td>\n",
              "      <td>Martin</td>\n",
              "      <td>1</td>\n",
              "      <td>1</td>\n",
              "    </tr>\n",
              "    <tr>\n",
              "      <th>3</th>\n",
              "      <td>pass</td>\n",
              "      <td>Martin</td>\n",
              "      <td>Habib</td>\n",
              "      <td>1</td>\n",
              "      <td>1</td>\n",
              "    </tr>\n",
              "    <tr>\n",
              "      <th>4</th>\n",
              "      <td>pass</td>\n",
              "      <td>Habib</td>\n",
              "      <td>Mayer</td>\n",
              "      <td>1</td>\n",
              "      <td>1</td>\n",
              "    </tr>\n",
              "    <tr>\n",
              "      <th>5</th>\n",
              "      <td>pass</td>\n",
              "      <td>Martin</td>\n",
              "      <td>Mayer</td>\n",
              "      <td>1</td>\n",
              "      <td>0</td>\n",
              "    </tr>\n",
              "    <tr>\n",
              "      <th>6</th>\n",
              "      <td>pass</td>\n",
              "      <td>Martin</td>\n",
              "      <td>Silvain</td>\n",
              "      <td>1</td>\n",
              "      <td>1</td>\n",
              "    </tr>\n",
              "    <tr>\n",
              "      <th>7</th>\n",
              "      <td>pass</td>\n",
              "      <td>Mayer</td>\n",
              "      <td>Silvain</td>\n",
              "      <td>1</td>\n",
              "      <td>1</td>\n",
              "    </tr>\n",
              "    <tr>\n",
              "      <th>8</th>\n",
              "      <td>pass</td>\n",
              "      <td>Martin</td>\n",
              "      <td>Henry</td>\n",
              "      <td>1</td>\n",
              "      <td>0</td>\n",
              "    </tr>\n",
              "  </tbody>\n",
              "</table>\n",
              "</div>\n",
              "      <button class=\"colab-df-convert\" onclick=\"convertToInteractive('df-cb46e7cc-0a33-4584-82fe-de9cf37454fe')\"\n",
              "              title=\"Convert this dataframe to an interactive table.\"\n",
              "              style=\"display:none;\">\n",
              "        \n",
              "  <svg xmlns=\"http://www.w3.org/2000/svg\" height=\"24px\"viewBox=\"0 0 24 24\"\n",
              "       width=\"24px\">\n",
              "    <path d=\"M0 0h24v24H0V0z\" fill=\"none\"/>\n",
              "    <path d=\"M18.56 5.44l.94 2.06.94-2.06 2.06-.94-2.06-.94-.94-2.06-.94 2.06-2.06.94zm-11 1L8.5 8.5l.94-2.06 2.06-.94-2.06-.94L8.5 2.5l-.94 2.06-2.06.94zm10 10l.94 2.06.94-2.06 2.06-.94-2.06-.94-.94-2.06-.94 2.06-2.06.94z\"/><path d=\"M17.41 7.96l-1.37-1.37c-.4-.4-.92-.59-1.43-.59-.52 0-1.04.2-1.43.59L10.3 9.45l-7.72 7.72c-.78.78-.78 2.05 0 2.83L4 21.41c.39.39.9.59 1.41.59.51 0 1.02-.2 1.41-.59l7.78-7.78 2.81-2.81c.8-.78.8-2.07 0-2.86zM5.41 20L4 18.59l7.72-7.72 1.47 1.35L5.41 20z\"/>\n",
              "  </svg>\n",
              "      </button>\n",
              "      \n",
              "  <style>\n",
              "    .colab-df-container {\n",
              "      display:flex;\n",
              "      flex-wrap:wrap;\n",
              "      gap: 12px;\n",
              "    }\n",
              "\n",
              "    .colab-df-convert {\n",
              "      background-color: #E8F0FE;\n",
              "      border: none;\n",
              "      border-radius: 50%;\n",
              "      cursor: pointer;\n",
              "      display: none;\n",
              "      fill: #1967D2;\n",
              "      height: 32px;\n",
              "      padding: 0 0 0 0;\n",
              "      width: 32px;\n",
              "    }\n",
              "\n",
              "    .colab-df-convert:hover {\n",
              "      background-color: #E2EBFA;\n",
              "      box-shadow: 0px 1px 2px rgba(60, 64, 67, 0.3), 0px 1px 3px 1px rgba(60, 64, 67, 0.15);\n",
              "      fill: #174EA6;\n",
              "    }\n",
              "\n",
              "    [theme=dark] .colab-df-convert {\n",
              "      background-color: #3B4455;\n",
              "      fill: #D2E3FC;\n",
              "    }\n",
              "\n",
              "    [theme=dark] .colab-df-convert:hover {\n",
              "      background-color: #434B5C;\n",
              "      box-shadow: 0px 1px 3px 1px rgba(0, 0, 0, 0.15);\n",
              "      filter: drop-shadow(0px 1px 2px rgba(0, 0, 0, 0.3));\n",
              "      fill: #FFFFFF;\n",
              "    }\n",
              "  </style>\n",
              "\n",
              "      <script>\n",
              "        const buttonEl =\n",
              "          document.querySelector('#df-cb46e7cc-0a33-4584-82fe-de9cf37454fe button.colab-df-convert');\n",
              "        buttonEl.style.display =\n",
              "          google.colab.kernel.accessAllowed ? 'block' : 'none';\n",
              "\n",
              "        async function convertToInteractive(key) {\n",
              "          const element = document.querySelector('#df-cb46e7cc-0a33-4584-82fe-de9cf37454fe');\n",
              "          const dataTable =\n",
              "            await google.colab.kernel.invokeFunction('convertToInteractive',\n",
              "                                                     [key], {});\n",
              "          if (!dataTable) return;\n",
              "\n",
              "          const docLinkHtml = 'Like what you see? Visit the ' +\n",
              "            '<a target=\"_blank\" href=https://colab.research.google.com/notebooks/data_table.ipynb>data table notebook</a>'\n",
              "            + ' to learn more about interactive tables.';\n",
              "          element.innerHTML = '';\n",
              "          dataTable['output_type'] = 'display_data';\n",
              "          await google.colab.output.renderOutput(dataTable, element);\n",
              "          const docLink = document.createElement('div');\n",
              "          docLink.innerHTML = docLinkHtml;\n",
              "          element.appendChild(docLink);\n",
              "        }\n",
              "      </script>\n",
              "    </div>\n",
              "  </div>\n",
              "  "
            ]
          },
          "metadata": {},
          "execution_count": 5
        }
      ]
    },
    {
      "cell_type": "code",
      "source": [
        "df.info()"
      ],
      "metadata": {
        "colab": {
          "base_uri": "https://localhost:8080/"
        },
        "id": "ujvwOZXzD38j",
        "outputId": "ce1cf32b-b192-4d7f-c638-47cecdf65cf0"
      },
      "execution_count": null,
      "outputs": [
        {
          "output_type": "stream",
          "name": "stdout",
          "text": [
            "<class 'pandas.core.frame.DataFrame'>\n",
            "RangeIndex: 9 entries, 0 to 8\n",
            "Data columns (total 5 columns):\n",
            " #   Column          Non-Null Count  Dtype \n",
            "---  ------          --------------  ----- \n",
            " 0   type            9 non-null      object\n",
            " 1   from            9 non-null      object\n",
            " 2   to              9 non-null      object\n",
            " 3   outcome         9 non-null      int64 \n",
            " 4   goal_possesion  9 non-null      int64 \n",
            "dtypes: int64(2), object(3)\n",
            "memory usage: 488.0+ bytes\n"
          ]
        }
      ]
    },
    {
      "cell_type": "code",
      "source": [
        "G=nx.DiGraph()\n",
        "\n",
        "for index, row in df.iterrows():\n",
        "  a = row['from']\n",
        "  b = row['to']\n",
        "  x = row['outcome']\n",
        "  y = row['goal_possesion']\n",
        "  G.add_edge(a, b, weight=x+y)\n",
        "weight = x+y"
      ],
      "metadata": {
        "id": "nWVTuDhdHXpA"
      },
      "execution_count": null,
      "outputs": []
    },
    {
      "cell_type": "code",
      "source": [
        "#Membuat graf berbentuk directed graph\n",
        "nx.draw(G, with_labels = True, node_size = 500, node_color = 'yellow')\n",
        "plt.show()"
      ],
      "metadata": {
        "colab": {
          "base_uri": "https://localhost:8080/",
          "height": 516
        },
        "id": "P9iOMpZgBFhY",
        "outputId": "5c8eb667-251f-406f-ea6d-e0e7b7bdef8a"
      },
      "execution_count": null,
      "outputs": [
        {
          "output_type": "display_data",
          "data": {
            "text/plain": [
              "<Figure size 640x480 with 1 Axes>"
            ],
            "image/png": "[encoded data removed]"
          },
          "metadata": {}
        }
      ]
    },
    {
      "cell_type": "code",
      "source": [
        "ec = nx.eigenvector_centrality(G, weight = weight, max_iter=1000)"
      ],
      "metadata": {
        "id": "syDxuWqWHO_t"
      },
      "execution_count": null,
      "outputs": []
    },
    {
      "cell_type": "code",
      "source": [
        "node_size = [ec[n]*1000 for n in G.nodes()]\n",
        "pos = nx.spring_layout(G)\n",
        "nx.draw_networkx_nodes(G, pos, node_size=500, node_color='yellow')\n",
        "nx.draw_networkx_labels(G, pos)\n",
        "edges = nx.draw_networkx_edges(G, pos, width=2, edge_color= 'gray', alpha = 0.5, arrows=False)\n",
        "weights = nx.get_edge_attributes(G, 'weight')\n",
        "nx.draw_networkx_edge_labels(G, pos, edge_labels=weights, font_size=10, font_color='red')\n",
        "plt.axis('on')\n",
        "plt.show()"
      ],
      "metadata": {
        "colab": {
          "base_uri": "https://localhost:8080/",
          "height": 406
        },
        "id": "Bh1gcRWuIcq8",
        "outputId": "470fe82a-d653-4997-c49f-49fd3a0a4fdd"
      },
      "execution_count": null,
      "outputs": [
        {
          "output_type": "display_data",
          "data": {
            "text/plain": [
              "<Figure size 640x480 with 1 Axes>"
            ],
            "image/png": "[encoded data removed]"
          },
          "metadata": {}
        }
      ]
    },
    {
      "cell_type": "code",
      "source": [
        "#Menghitung degree in dan degree out setiap node\n",
        "degree_in = dict(G.in_degree())\n",
        "degree_out = dict(G.out_degree())\n",
        "\n",
        "#Mencetak degree in, degree out, dan centrality setiap node\n",
        "for node in G.nodes():\n",
        "  print(\"Node:\", node)\n",
        "  print(\"Degree Out:\", degree_in[node])\n",
        "  print(\"Degree In:\", degree_out[node])\n",
        "  print(\"Centrality:\", abs(ec[node]))\n",
        "  print()"
      ],
      "metadata": {
        "colab": {
          "base_uri": "https://localhost:8080/"
        },
        "id": "1mNiWN_dE0Ds",
        "outputId": "5826041b-e72f-4acf-ac4a-02f99f42bb23"
      },
      "execution_count": null,
      "outputs": [
        {
          "output_type": "stream",
          "name": "stdout",
          "text": [
            "Node: Sylvain\n",
            "Degree Out: 0\n",
            "Degree In: 1\n",
            "Centrality: 1.303671431075254e-07\n",
            "\n",
            "Node: Henry\n",
            "Degree Out: 2\n",
            "Degree In: 1\n",
            "Centrality: 0.24977262572114078\n",
            "\n",
            "Node: Mayer\n",
            "Degree Out: 3\n",
            "Degree In: 2\n",
            "Centrality: 0.5781202663031925\n",
            "\n",
            "Node: Martin\n",
            "Degree Out: 1\n",
            "Degree In: 4\n",
            "Centrality: 0.3799972775412497\n",
            "\n",
            "Node: Habib\n",
            "Degree Out: 1\n",
            "Degree In: 1\n",
            "Centrality: 0.24977053984685105\n",
            "\n",
            "Node: Silvain\n",
            "Degree Out: 2\n",
            "Degree In: 0\n",
            "Centrality: 0.6297676870209576\n",
            "\n"
          ]
        }
      ]
    },
    {
      "cell_type": "code",
      "source": [
        "# Membuat list kosong untuk menyimpan data\n",
        "node_list = []\n",
        "degree_in_list = []\n",
        "degree_out_list = []\n",
        "centrality_list = []\n",
        "\n",
        "# Mengisi list dengan data dari perulangan\n",
        "for node in G.nodes():\n",
        "  node_list.append(node)\n",
        "  degree_in_list.append(degree_in[node])\n",
        "  degree_out_list.append(degree_out[node])\n",
        "  centrality_list.append(abs(ec[node]))\n",
        "\n",
        "# Membuat dataframe dari list\n",
        "df = pd.DataFrame({\n",
        "    'Node': node_list,\n",
        "    'Degree In': degree_in_list,\n",
        "    'Degree Out': degree_out_list,\n",
        "    'Centrality': centrality_list\n",
        "})\n",
        "\n",
        "# Menyimpan dataframe ke dalam file Excel\n",
        "df.to_excel('eigen.xlsx', index=False)\n"
      ],
      "metadata": {
        "id": "k9gWnJwGJ7Ib"
      },
      "execution_count": null,
      "outputs": []
    },
    {
      "cell_type": "code",
      "source": [
        "#Mencetak aktor paling berpengaruh berdasarkan eigen centrality\n",
        "most_influential_player = max(ec, key=ec.get)\n",
        "print(\"Pemain paling berpengaruh berdasarkan pass complete dan goal_possesion dalah:\", most_influential_player)"
      ],
      "metadata": {
        "colab": {
          "base_uri": "https://localhost:8080/"
        },
        "id": "6-h0BgsQFujY",
        "outputId": "7cfe91a9-e165-40fc-a8a3-e363c72f8998"
      },
      "execution_count": null,
      "outputs": [
        {
          "output_type": "stream",
          "name": "stdout",
          "text": [
            "Pemain paling berpengaruh berdasarkan pass complete dan goal_possesion dalah: Silvain\n"
          ]
        }
      ]
    }
  ]
}